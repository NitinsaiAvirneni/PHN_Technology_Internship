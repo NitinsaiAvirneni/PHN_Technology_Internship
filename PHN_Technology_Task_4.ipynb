{
  "nbformat": 4,
  "nbformat_minor": 0,
  "metadata": {
    "colab": {
      "provenance": []
    },
    "kernelspec": {
      "name": "python3",
      "display_name": "Python 3"
    },
    "language_info": {
      "name": "python"
    }
  },
  "cells": [
    {
      "cell_type": "code",
      "execution_count": 1,
      "metadata": {
        "id": "Gd30q3yy6Zek"
      },
      "outputs": [],
      "source": [
        "import numpy as np"
      ]
    },
    {
      "cell_type": "markdown",
      "source": [
        "Creating the Array"
      ],
      "metadata": {
        "id": "yhYu5UmR63ud"
      }
    },
    {
      "cell_type": "code",
      "source": [
        "ar1 = np.array([1,2,3,4,5])\n",
        "print(ar1)"
      ],
      "metadata": {
        "colab": {
          "base_uri": "https://localhost:8080/"
        },
        "id": "31OZsYO86v6h",
        "outputId": "766a2108-89d1-47a4-d6fb-b96d4838bca5"
      },
      "execution_count": 3,
      "outputs": [
        {
          "output_type": "stream",
          "name": "stdout",
          "text": [
            "[1 2 3 4 5]\n"
          ]
        }
      ]
    },
    {
      "cell_type": "markdown",
      "source": [
        "Finding the shape of the array using .shape attribute"
      ],
      "metadata": {
        "id": "ZLh-xiH47Res"
      }
    },
    {
      "cell_type": "code",
      "source": [
        "print(ar1.shape)"
      ],
      "metadata": {
        "colab": {
          "base_uri": "https://localhost:8080/"
        },
        "id": "-VvUJ7wK7fi4",
        "outputId": "33120d62-fabe-41fd-d2f5-c9cf2f44ba90"
      },
      "execution_count": 4,
      "outputs": [
        {
          "output_type": "stream",
          "name": "stdout",
          "text": [
            "(5,)\n"
          ]
        }
      ]
    },
    {
      "cell_type": "markdown",
      "source": [
        "Reshaping the array"
      ],
      "metadata": {
        "id": "61dDyT_Z86kl"
      }
    },
    {
      "cell_type": "code",
      "source": [
        "ar1 = np.array([0,1,2,3,4,5])\n",
        "reshaped_ar1 = ar1.reshape(2, 3)\n",
        "print(reshaped_ar1)"
      ],
      "metadata": {
        "colab": {
          "base_uri": "https://localhost:8080/"
        },
        "id": "80SkQcbu7nud",
        "outputId": "1c009f01-c3e9-4631-de47-6225f916f57f"
      },
      "execution_count": 7,
      "outputs": [
        {
          "output_type": "stream",
          "name": "stdout",
          "text": [
            "[[0 1 2]\n",
            " [3 4 5]]\n"
          ]
        }
      ]
    },
    {
      "cell_type": "markdown",
      "source": [
        "Finding the shape of new array"
      ],
      "metadata": {
        "id": "G-pvC3o19TZx"
      }
    },
    {
      "cell_type": "code",
      "source": [
        "print(reshaped_ar1.shape)"
      ],
      "metadata": {
        "colab": {
          "base_uri": "https://localhost:8080/"
        },
        "id": "ndP1aAYl83YR",
        "outputId": "0bd09342-2a99-461e-949b-b22d4f2cb152"
      },
      "execution_count": 8,
      "outputs": [
        {
          "output_type": "stream",
          "name": "stdout",
          "text": [
            "(2, 3)\n"
          ]
        }
      ]
    },
    {
      "cell_type": "markdown",
      "source": [
        "Creating another array"
      ],
      "metadata": {
        "id": "1a-UbCzb93SE"
      }
    },
    {
      "cell_type": "code",
      "source": [
        "ar1=np.array([1,2,3,4,5])\n",
        "ar2=np.array([6,7,8,9,10])\n",
        "print(ar2)"
      ],
      "metadata": {
        "colab": {
          "base_uri": "https://localhost:8080/"
        },
        "id": "EwfHZkJT9ZIe",
        "outputId": "dfdce540-ff5d-4083-fee9-5fad42fd51c3"
      },
      "execution_count": 10,
      "outputs": [
        {
          "output_type": "stream",
          "name": "stdout",
          "text": [
            "[ 6  7  8  9 10]\n"
          ]
        }
      ]
    },
    {
      "cell_type": "markdown",
      "source": [
        "Concatenating Two arrays"
      ],
      "metadata": {
        "id": "AYK8Kf-l-Oj2"
      }
    },
    {
      "cell_type": "code",
      "source": [
        "concatenated_ar = np.concatenate((ar1,ar2), axis=0)\n",
        "print(concatenated_ar)"
      ],
      "metadata": {
        "colab": {
          "base_uri": "https://localhost:8080/"
        },
        "id": "EzASSV3i98tX",
        "outputId": "689d4727-8e53-4146-b836-217e46fac938"
      },
      "execution_count": 11,
      "outputs": [
        {
          "output_type": "stream",
          "name": "stdout",
          "text": [
            "[ 1  2  3  4  5  6  7  8  9 10]\n"
          ]
        }
      ]
    },
    {
      "cell_type": "markdown",
      "source": [
        "Computing the resultant array's mean,median and Standard deviation"
      ],
      "metadata": {
        "id": "3wjTYT2I-U0V"
      }
    },
    {
      "cell_type": "code",
      "source": [
        "mean_value = np.mean(concatenated_ar)\n",
        "median_value = np.median(concatenated_ar)\n",
        "std_value = np.std(concatenated_ar)\n",
        "\n",
        "print(\"Mean:\", mean_value)\n",
        "print(\"Median:\", median_value)\n",
        "print(\"Standard Deviation:\", std_value)"
      ],
      "metadata": {
        "colab": {
          "base_uri": "https://localhost:8080/"
        },
        "id": "nekcLynb-UU6",
        "outputId": "67aa6fbb-f6eb-43aa-bf57-faf3f137795b"
      },
      "execution_count": 12,
      "outputs": [
        {
          "output_type": "stream",
          "name": "stdout",
          "text": [
            "Mean: 5.5\n",
            "Median: 5.5\n",
            "Standard Deviation: 2.8722813232690143\n"
          ]
        }
      ]
    }
  ]
}