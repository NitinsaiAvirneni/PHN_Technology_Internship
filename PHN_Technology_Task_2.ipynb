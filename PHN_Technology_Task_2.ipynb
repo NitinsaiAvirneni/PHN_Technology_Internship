{
  "nbformat": 4,
  "nbformat_minor": 0,
  "metadata": {
    "colab": {
      "provenance": []
    },
    "kernelspec": {
      "name": "python3",
      "display_name": "Python 3"
    },
    "language_info": {
      "name": "python"
    }
  },
  "cells": [
    {
      "cell_type": "code",
      "execution_count": 1,
      "metadata": {
        "id": "58Le8N5YI2wX"
      },
      "outputs": [],
      "source": [
        "import pandas as pd"
      ]
    },
    {
      "cell_type": "markdown",
      "source": [
        "Loading the titanic dataset"
      ],
      "metadata": {
        "id": "1cA1zJehLcUe"
      }
    },
    {
      "cell_type": "code",
      "source": [
        "titanic_df = pd.read_csv('/content/titanic.csv')"
      ],
      "metadata": {
        "id": "mqLluEYPKEHd"
      },
      "execution_count": 2,
      "outputs": []
    },
    {
      "cell_type": "code",
      "source": [
        "print(titanic_df.head())"
      ],
      "metadata": {
        "colab": {
          "base_uri": "https://localhost:8080/"
        },
        "id": "iDvit6dxKE5U",
        "outputId": "81a0cbb0-a90a-40c4-9508-ae44a586f384"
      },
      "execution_count": 3,
      "outputs": [
        {
          "output_type": "stream",
          "name": "stdout",
          "text": [
            "   PassengerId  Survived  Pclass  \\\n",
            "0            1         0       3   \n",
            "1            2         1       1   \n",
            "2            3         1       3   \n",
            "3            4         1       1   \n",
            "4            5         0       3   \n",
            "\n",
            "                                                Name     Sex   Age  SibSp  \\\n",
            "0                            Braund, Mr. Owen Harris    male  22.0      1   \n",
            "1  Cumings, Mrs. John Bradley (Florence Briggs Th...  female  38.0      1   \n",
            "2                             Heikkinen, Miss. Laina  female  26.0      0   \n",
            "3       Futrelle, Mrs. Jacques Heath (Lily May Peel)  female  35.0      1   \n",
            "4                           Allen, Mr. William Henry    male  35.0      0   \n",
            "\n",
            "   Parch            Ticket     Fare Cabin Embarked  \n",
            "0      0         A/5 21171   7.2500   NaN        S  \n",
            "1      0          PC 17599  71.2833   C85        C  \n",
            "2      0  STON/O2. 3101282   7.9250   NaN        S  \n",
            "3      0            113803  53.1000  C123        S  \n",
            "4      0            373450   8.0500   NaN        S  \n"
          ]
        }
      ]
    },
    {
      "cell_type": "markdown",
      "source": [
        "Names of passengers younger than 35 years."
      ],
      "metadata": {
        "id": "oqygvQt0Lnfe"
      }
    },
    {
      "cell_type": "code",
      "source": [
        "young_passengers = titanic_df[titanic_df['Age'] < 35]\n",
        "names = young_passengers['Name']\n",
        "print(names)"
      ],
      "metadata": {
        "colab": {
          "base_uri": "https://localhost:8080/"
        },
        "id": "wUnG4CPaKh68",
        "outputId": "63106602-78c1-40ea-c679-2254e0bad0f1"
      },
      "execution_count": 4,
      "outputs": [
        {
          "output_type": "stream",
          "name": "stdout",
          "text": [
            "0                                Braund, Mr. Owen Harris\n",
            "2                                 Heikkinen, Miss. Laina\n",
            "7                         Palsson, Master. Gosta Leonard\n",
            "8      Johnson, Mrs. Oscar W (Elisabeth Vilhelmina Berg)\n",
            "9                    Nasser, Mrs. Nicholas (Adele Achem)\n",
            "                             ...                        \n",
            "884                               Sutehall, Mr. Henry Jr\n",
            "886                                Montvila, Rev. Juozas\n",
            "887                         Graham, Miss. Margaret Edith\n",
            "889                                Behr, Mr. Karl Howell\n",
            "890                                  Dooley, Mr. Patrick\n",
            "Name: Name, Length: 479, dtype: object\n"
          ]
        }
      ]
    },
    {
      "cell_type": "markdown",
      "source": [
        "Printing the rows from index 10 to 25 and columns 3 to 5"
      ],
      "metadata": {
        "id": "d2dtryJHLsi9"
      }
    },
    {
      "cell_type": "code",
      "source": [
        "subset = titanic_df.iloc[10:26, 3:6]\n",
        "print(subset)"
      ],
      "metadata": {
        "colab": {
          "base_uri": "https://localhost:8080/"
        },
        "id": "Di-Z6g_WKqvg",
        "outputId": "cbda71ee-e1aa-4ff2-e7f3-806279fd8499"
      },
      "execution_count": 5,
      "outputs": [
        {
          "output_type": "stream",
          "name": "stdout",
          "text": [
            "                                                 Name     Sex   Age\n",
            "10                    Sandstrom, Miss. Marguerite Rut  female   4.0\n",
            "11                           Bonnell, Miss. Elizabeth  female  58.0\n",
            "12                     Saundercock, Mr. William Henry    male  20.0\n",
            "13                        Andersson, Mr. Anders Johan    male  39.0\n",
            "14               Vestrom, Miss. Hulda Amanda Adolfina  female  14.0\n",
            "15                   Hewlett, Mrs. (Mary D Kingcome)   female  55.0\n",
            "16                               Rice, Master. Eugene    male   2.0\n",
            "17                       Williams, Mr. Charles Eugene    male   NaN\n",
            "18  Vander Planke, Mrs. Julius (Emelia Maria Vande...  female  31.0\n",
            "19                            Masselmani, Mrs. Fatima  female   NaN\n",
            "20                               Fynney, Mr. Joseph J    male  35.0\n",
            "21                              Beesley, Mr. Lawrence    male  34.0\n",
            "22                        McGowan, Miss. Anna \"Annie\"  female  15.0\n",
            "23                       Sloper, Mr. William Thompson    male  28.0\n",
            "24                      Palsson, Miss. Torborg Danira  female   8.0\n",
            "25  Asplund, Mrs. Carl Oscar (Selma Augusta Emilia...  female  38.0\n"
          ]
        }
      ]
    },
    {
      "cell_type": "markdown",
      "source": [
        "Statistics aggregate of Age & Fare using the DataFrame.agg() method"
      ],
      "metadata": {
        "id": "9t4gDwfTL3oC"
      }
    },
    {
      "cell_type": "code",
      "source": [
        "stats = titanic_df[['Age', 'Fare']].agg(['mean', 'median', 'min', 'max'])\n",
        "print(stats)"
      ],
      "metadata": {
        "colab": {
          "base_uri": "https://localhost:8080/"
        },
        "id": "ietRycd9K4WY",
        "outputId": "8b28cb00-3adb-48fb-8a03-beba6fdffc50"
      },
      "execution_count": 6,
      "outputs": [
        {
          "output_type": "stream",
          "name": "stdout",
          "text": [
            "              Age        Fare\n",
            "mean    29.699118   32.204208\n",
            "median  28.000000   14.454200\n",
            "min      0.420000    0.000000\n",
            "max     80.000000  512.329200\n"
          ]
        }
      ]
    },
    {
      "cell_type": "markdown",
      "source": [
        "Mean ticket fare price for each of the sex and cabin class combinations"
      ],
      "metadata": {
        "id": "kDOYb460L6BA"
      }
    },
    {
      "cell_type": "code",
      "source": [
        "fare_means = titanic_df.groupby(['Sex', 'Pclass'])['Fare'].mean()\n",
        "print(fare_means)"
      ],
      "metadata": {
        "colab": {
          "base_uri": "https://localhost:8080/"
        },
        "id": "hNoH2oXQLGhN",
        "outputId": "6c1e0f5f-224e-4859-8a0d-88d50c431e7b"
      },
      "execution_count": 7,
      "outputs": [
        {
          "output_type": "stream",
          "name": "stdout",
          "text": [
            "Sex     Pclass\n",
            "female  1         106.125798\n",
            "        2          21.970121\n",
            "        3          16.118810\n",
            "male    1          67.226127\n",
            "        2          19.741782\n",
            "        3          12.661633\n",
            "Name: Fare, dtype: float64\n"
          ]
        }
      ]
    }
  ]
}