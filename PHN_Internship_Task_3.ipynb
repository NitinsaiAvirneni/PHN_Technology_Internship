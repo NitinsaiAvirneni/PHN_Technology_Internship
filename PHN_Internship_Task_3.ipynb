{
  "nbformat": 4,
  "nbformat_minor": 0,
  "metadata": {
    "colab": {
      "provenance": []
    },
    "kernelspec": {
      "name": "python3",
      "display_name": "Python 3"
    },
    "language_info": {
      "name": "python"
    }
  },
  "cells": [
    {
      "cell_type": "code",
      "execution_count": null,
      "metadata": {
        "id": "AWdgpiFxS0Mn"
      },
      "outputs": [],
      "source": [
        "import openpyxl"
      ]
    },
    {
      "cell_type": "markdown",
      "source": [
        "load the workbook"
      ],
      "metadata": {
        "id": "KGQSG1FAXrWu"
      }
    },
    {
      "cell_type": "code",
      "source": [
        "workbook = openpyxl.load_workbook('/content/original_sheet.xlsx')"
      ],
      "metadata": {
        "id": "vMo51URqTQ2d"
      },
      "execution_count": null,
      "outputs": []
    },
    {
      "cell_type": "markdown",
      "source": [
        "Select the active worksheet"
      ],
      "metadata": {
        "id": "TwPQOR-MX0xT"
      }
    },
    {
      "cell_type": "code",
      "source": [
        "worksheet = workbook.active"
      ],
      "metadata": {
        "id": "7PfVISNfTQzG"
      },
      "execution_count": null,
      "outputs": []
    },
    {
      "cell_type": "code",
      "source": [
        "cell_value = worksheet['A1'].value"
      ],
      "metadata": {
        "id": "BlZPhvLXTQwr"
      },
      "execution_count": null,
      "outputs": []
    },
    {
      "cell_type": "code",
      "source": [
        "# Iterate through all cells in a column\n",
        "for cell in worksheet['A']:\n",
        "    print(cell.value)"
      ],
      "metadata": {
        "colab": {
          "base_uri": "https://localhost:8080/"
        },
        "id": "4G0jjdmaTQuW",
        "outputId": "16758ee7-c4ad-40ae-ef3a-71f6cb2e8d32"
      },
      "execution_count": null,
      "outputs": [
        {
          "output_type": "stream",
          "name": "stdout",
          "text": [
            "Fruit\n",
            "Apple\n",
            "Banana\n",
            "Apple\n",
            "Orange\n",
            "Banana\n"
          ]
        }
      ]
    },
    {
      "cell_type": "code",
      "source": [
        "# Iterate through all rows in a worksheet\n",
        "for row in worksheet.iter_rows():\n",
        "    for cell in row:\n",
        "        print(cell.value)"
      ],
      "metadata": {
        "colab": {
          "base_uri": "https://localhost:8080/"
        },
        "id": "7Lje6RBlTQrl",
        "outputId": "59bedcda-6f0c-480c-8e37-338f16a4ea34"
      },
      "execution_count": null,
      "outputs": [
        {
          "output_type": "stream",
          "name": "stdout",
          "text": [
            "Fruit\n",
            "Quantity\n",
            "Apple\n",
            "10\n",
            "Banana\n",
            "5\n",
            "Apple\n",
            "15\n",
            "Orange\n",
            "20\n",
            "Banana\n",
            "10\n"
          ]
        }
      ]
    },
    {
      "cell_type": "code",
      "source": [
        "fruit_totals = {}"
      ],
      "metadata": {
        "id": "tWI-RbO9Vykr"
      },
      "execution_count": null,
      "outputs": []
    },
    {
      "cell_type": "code",
      "source": [
        "# Iterate through all rows in the worksheet (skipping the header row)\n",
        "for row in worksheet.iter_rows(min_row=2, values_only=True):\n",
        "    fruit = row[0]\n",
        "    quantity = row[1]\n",
        "    if fruit in fruit_totals:\n",
        "        fruit_totals[fruit] += quantity\n",
        "    else:\n",
        "        fruit_totals[fruit] = quantity"
      ],
      "metadata": {
        "id": "ak458GE-Wetw"
      },
      "execution_count": null,
      "outputs": []
    },
    {
      "cell_type": "markdown",
      "source": [
        "Create a new workbook and worksheet"
      ],
      "metadata": {
        "id": "NayVROxLX8hH"
      }
    },
    {
      "cell_type": "code",
      "source": [
        "new_workbook = openpyxl.Workbook()\n",
        "new_worksheet = new_workbook.active"
      ],
      "metadata": {
        "id": "zwsexEpGWeqg"
      },
      "execution_count": null,
      "outputs": []
    },
    {
      "cell_type": "code",
      "source": [
        "# Write the headers to the new worksheet\n",
        "new_worksheet['A1'] = 'Fruit'\n",
        "new_worksheet['B1'] = 'Total Quantity'"
      ],
      "metadata": {
        "id": "eZyolS82Wen0"
      },
      "execution_count": null,
      "outputs": []
    },
    {
      "cell_type": "code",
      "source": [
        "# Write the fruit totals to the new worksheet\n",
        "row_index = 2\n",
        "for fruit, total_quantity in fruit_totals.items():\n",
        "    new_worksheet.cell(row=row_index, column=1, value=fruit)\n",
        "    new_worksheet.cell(row=row_index, column=2, value=total_quantity)\n",
        "    row_index += 1\n"
      ],
      "metadata": {
        "id": "uslZ7P9mWelQ"
      },
      "execution_count": null,
      "outputs": []
    },
    {
      "cell_type": "markdown",
      "source": [
        "Save the new workbook"
      ],
      "metadata": {
        "id": "TP9LDKMiYC1E"
      }
    },
    {
      "cell_type": "code",
      "source": [
        "new_workbook.save('new_sheet.xlsx')"
      ],
      "metadata": {
        "id": "A04RRXs_Weiq"
      },
      "execution_count": null,
      "outputs": []
    }
  ]
}